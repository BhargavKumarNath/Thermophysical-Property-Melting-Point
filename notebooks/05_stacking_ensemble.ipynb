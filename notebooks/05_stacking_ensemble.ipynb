{
 "cells": [
  {
   "cell_type": "code",
   "execution_count": 1,
   "id": "d90f4692",
   "metadata": {},
   "outputs": [],
   "source": [
    "import pandas as pd\n",
    "import numpy as np\n",
    "import lightgbm as lgb\n",
    "import xgboost as xgb\n",
    "from sklearn.ensemble import HistGradientBoostingRegressor, StackingRegressor\n",
    "from sklearn.linear_model import RidgeCV\n",
    "from sklearn.model_selection import KFold\n",
    "from sklearn.metrics import mean_absolute_error\n",
    "from sklearn.preprocessing import StandardScaler\n",
    "from sklearn.pipeline import Pipeline\n",
    "import pickle"
   ]
  },
  {
   "cell_type": "code",
   "execution_count": 2,
   "id": "19fc7d02",
   "metadata": {},
   "outputs": [
    {
     "name": "stdout",
     "output_type": "stream",
     "text": [
      "Data Loaded. Train shape: (2662, 322), Test shape: (666, 322)\n"
     ]
    }
   ],
   "source": [
    "train_df = pd.read_csv('../data/processed/train_processed.csv')\n",
    "test_df = pd.read_csv('../data/processed/test_processed.csv')\n",
    "\n",
    "y = train_df['Tm']\n",
    "X = train_df.drop(columns=['id', 'Tm'])\n",
    "X_test = test_df.drop(columns=['id'])\n",
    "\n",
    "X_test = X_test[X.columns]\n",
    "\n",
    "X.columns = [\"\".join (c if c.isalnum() else \"_\" for c in str(x)) for x in X.columns]\n",
    "X_test.columns = [\"\".join (c if c.isalnum() else \"_\" for c in str(x)) for x in X_test.columns]\n",
    "\n",
    "print(f\"Data Loaded. Train shape: {X.shape}, Test shape: {X_test.shape}\")"
   ]
  },
  {
   "cell_type": "code",
   "execution_count": null,
   "id": "49f5f66f",
   "metadata": {},
   "outputs": [
    {
     "name": "stdout",
     "output_type": "stream",
     "text": [
      "Defining Base Models for Stacking\n"
     ]
    }
   ],
   "source": [
    "# Define base models\n",
    "print(\"Defining Base Models for Stacking\")\n",
    "\n",
    "lgb_params_tuned = {\n",
    "    'objective': 'regression_l1',\n",
    "    'metric': 'mae',\n",
    "    'n_estimators': 2000, \n",
    "    'learning_rate': 0.05445820875847297,\n",
    "    'max_depth': 11,\n",
    "    'num_leaves': 28,\n",
    "    'subsample': 0.8096640142442519,\n",
    "    'colsample_bytree': 0.7222682997643721,\n",
    "    'lambda_l1': 0.07754417154115359,\n",
    "    'lambda_l2': 3.330947586954466e-07,\n",
    "    'verbose': -1,\n",
    "    'n_jobs': -1,\n",
    "    'seed': 42\n",
    "}\n",
    "\n",
    "histgb_params = {\n",
    "    'max_iter': 500,\n",
    "    'max_depth': 10,\n",
    "    'learning_rate': 0.05,\n",
    "    'random_state': 42\n",
    "}\n",
    "\n",
    "xgb_params = {\n",
    "    'n_estimators': 1000,\n",
    "    'learning_rate': 0.05,\n",
    "    'max_depth': 8,\n",
    "    'tree_method': 'hist',\n",
    "    'verbosity': 0,\n",
    "    'random_state': 42,\n",
    "    'n_jobs': -1\n",
    "}\n",
    "\n",
    "estimators = [\n",
    "    ('lgbm', lgb.LGBMRegressor(**lgb_params_tuned)),\n",
    "    ('hist', HistGradientBoostingRegressor(**histgb_params)),\n",
    "    ('xgb', xgb.XGBRegressor(**xgb_params))\n",
    "]\n",
    "\n",
    "meta_model = RidgeCV()"
   ]
  },
  {
   "cell_type": "code",
   "execution_count": 4,
   "id": "1e1a0d49",
   "metadata": {},
   "outputs": [
    {
     "name": "stdout",
     "output_type": "stream",
     "text": [
      "Building and Evaluating the Stackin Regressor\n",
      "Starting Fold 1/5\n",
      "Fold 1 MAE: 27.82745\n",
      "Starting Fold 2/5\n",
      "Fold 2 MAE: 26.86074\n",
      "Starting Fold 3/5\n",
      "Fold 3 MAE: 26.75183\n",
      "Starting Fold 4/5\n",
      "Fold 4 MAE: 28.01798\n",
      "Starting Fold 5/5\n",
      "Fold 5 MAE: 27.23825\n",
      "\n",
      "Stacking Ensemble CV Finished\n",
      "Average MAE: 27.33925 (+/- 0.50661)\n"
     ]
    }
   ],
   "source": [
    "print(\"Building and Evaluating the Stackin Regressor\")\n",
    "\n",
    "stack =  StackingRegressor(\n",
    "    estimators=estimators,\n",
    "    final_estimator=meta_model,\n",
    "    cv=5,\n",
    "    n_jobs=-1\n",
    ")\n",
    "\n",
    "kf = KFold(n_splits=5, shuffle=True, random_state=42)\n",
    "mae_scores = []\n",
    "\n",
    "for fold, (train_idx, val_idx) in enumerate(kf.split(X, y)):\n",
    "    print(f\"Starting Fold {fold+1}/5\")\n",
    "    X_train, X_val = X.iloc[train_idx], X.iloc[val_idx]\n",
    "    y_train, y_val = y.iloc[train_idx], y.iloc[val_idx]\n",
    "\n",
    "    stack.fit(X_train, y_train)\n",
    "\n",
    "    y_pred_log = stack.predict(X_val)\n",
    "\n",
    "    mae = mean_absolute_error(np.exp(y_val), np.exp(y_pred_log))\n",
    "    mae_scores.append(mae)\n",
    "    print(f\"Fold {fold+1} MAE: {mae:.5f}\")\n",
    "\n",
    "mean_mae = np.mean(mae_scores)\n",
    "std_mae = np.std(mae_scores)\n",
    "print(f\"\\nStacking Ensemble CV Finished\")\n",
    "print(f\"Average MAE: {mean_mae:.5f} (+/- {std_mae:.5f})\")"
   ]
  },
  {
   "cell_type": "code",
   "execution_count": null,
   "id": "ff9253c0",
   "metadata": {},
   "outputs": [
    {
     "name": "stdout",
     "output_type": "stream",
     "text": [
      "\n",
      "--- 4. Training Final Model on All Data ---\n",
      "Final model training complete.\n",
      "Model saved to ../models/stacking_model.pkl\n",
      "\n",
      "--- Generating Predictions for Submission ---\n",
      "\n",
      "Submission file 'submission.csv' created successfully!\n",
      "Top 5 rows of submission file:\n",
      "     id          Tm\n",
      "0  1022  363.963334\n",
      "1  1146  338.906736\n",
      "2    79  193.900438\n",
      "3  2279  194.612145\n",
      "4  1342  227.035622\n"
     ]
    }
   ],
   "source": [
    "# 4. Train Final Model and Generate Submission ---\n",
    "print(\"\\n--- 4. Training Final Model on All Data ---\")\n",
    "stack.fit(X, y)\n",
    "print(\"Final model training complete.\")\n",
    "\n",
    "# Save the trained model\n",
    "with open('../models/stacking_model.pkl', 'wb') as f:\n",
    "    pickle.dump(stack, f)\n",
    "print(\"Model saved to ../models/stacking_model.pkl\")\n",
    "\n",
    "print(\"\\n--- Generating Predictions for Submission ---\")\n",
    "test_predictions_log = stack.predict(X_test)\n",
    "test_predictions = np.exp(test_predictions_log) \n",
    "\n",
    "submission_df = pd.DataFrame({'id': test_df['id'], 'Tm': test_predictions})\n",
    "submission_df.to_csv('submission.csv', index=False)\n",
    "\n",
    "print(\"\\nSubmission file 'submission.csv' created successfully!\")\n",
    "print(\"Top 5 rows of submission file:\")\n",
    "print(submission_df.head())\n"
   ]
  },
  {
   "cell_type": "code",
   "execution_count": null,
   "id": "8d4163e8",
   "metadata": {},
   "outputs": [],
   "source": []
  }
 ],
 "metadata": {
  "kernelspec": {
   "display_name": ".venv",
   "language": "python",
   "name": "python3"
  },
  "language_info": {
   "codemirror_mode": {
    "name": "ipython",
    "version": 3
   },
   "file_extension": ".py",
   "mimetype": "text/x-python",
   "name": "python",
   "nbconvert_exporter": "python",
   "pygments_lexer": "ipython3",
   "version": "3.13.7"
  }
 },
 "nbformat": 4,
 "nbformat_minor": 5
}
