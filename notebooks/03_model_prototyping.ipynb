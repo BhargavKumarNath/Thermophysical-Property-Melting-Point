{
 "cells": [
  {
   "cell_type": "code",
   "execution_count": 4,
   "id": "e59550ad",
   "metadata": {},
   "outputs": [],
   "source": [
    "import pandas as pd\n",
    "import numpy as np\n",
    "from sklearn.model_selection import KFold\n",
    "from sklearn.preprocessing import StandardScaler\n",
    "from sklearn.metrics import mean_absolute_error\n",
    "from sklearn.linear_model import Ridge\n",
    "from sklearn.ensemble import RandomForestRegressor\n",
    "from sklearn.pipeline import Pipeline\n",
    "import lightgbm as lgb\n",
    "import xgboost as xgb\n",
    "import warnings\n",
    "warnings.filterwarnings('ignore')"
   ]
  },
  {
   "cell_type": "code",
   "execution_count": 2,
   "id": "86ce6821",
   "metadata": {},
   "outputs": [
    {
     "name": "stdout",
     "output_type": "stream",
     "text": [
      "Data loaded\n"
     ]
    }
   ],
   "source": [
    "train_df = pd.read_csv('../data/processed/train_processed.csv')\n",
    "test_df = pd.read_csv('../data/processed/test_processed.csv')\n",
    "\n",
    "print(\"Data loaded\")"
   ]
  },
  {
   "cell_type": "code",
   "execution_count": 3,
   "id": "3262ac27",
   "metadata": {},
   "outputs": [
    {
     "name": "stdout",
     "output_type": "stream",
     "text": [
      "2. Preparing Data for Modeling\n",
      "Using 322 features for modeling\n"
     ]
    }
   ],
   "source": [
    "# Prepare data for modeling\n",
    "print(\"2. Preparing Data for Modeling\")\n",
    "features = [col for col in test_df.columns if col not in ['id', 'SMILES']]\n",
    "X = train_df[features].copy()\n",
    "y = train_df['Tm'].copy()\n",
    "\n",
    "X = X.replace([np.inf, -np.inf], np.nan)\n",
    "X = X.fillna(X.mean())\n",
    "\n",
    "print(f\"Using {X.shape[1]} features for modeling\")"
   ]
  },
  {
   "cell_type": "code",
   "execution_count": 5,
   "id": "5b2e8f85",
   "metadata": {},
   "outputs": [
    {
     "name": "stdout",
     "output_type": "stream",
     "text": [
      "3. Setting up Cross Validation and model evaluation\n"
     ]
    }
   ],
   "source": [
    "print(\"3. Setting up Cross Validation and model evaluation\")\n",
    "kf = KFold(n_splits=5, shuffle=True, random_state=42)\n",
    "results = {}\n",
    "\n",
    "def evaluate_model(model_name, model):\n",
    "    \"\"\"Function to perform cross validation and return MAE scores\"\"\"\n",
    "    mae_scores = []\n",
    "\n",
    "    pipeline = Pipeline([\n",
    "        ('scaler', StandardScaler()),\n",
    "        ('model', model)\n",
    "    ])\n",
    "\n",
    "    for fold, (train_idx, val_idx) in enumerate(kf.split(X, y)):\n",
    "        X_train, X_val = X.iloc[train_idx], X.iloc[val_idx]\n",
    "        y_train, y_val = y.iloc[train_idx], y.iloc[val_idx]\n",
    "\n",
    "        pipeline.fit(X_train, y_train)\n",
    "        y_pred_log = pipeline.predict(X_val)\n",
    "\n",
    "        y_pred_original = np.exp(y_pred_log)\n",
    "        y_val_original = np.exp(y_val)\n",
    "\n",
    "        mae = mean_absolute_error(y_val_original, y_pred_original)\n",
    "        mae_scores.append(mae)\n",
    "        print(f\"Fold {fold+1} MAE: {mae:.5}\")\n",
    "\n",
    "    mean_mae = np.mean(mae_scores)\n",
    "    std_mae = np.std(mae_scores)\n",
    "\n",
    "    results[model_name] = {'mean_mae': mean_mae, 'std_mae': std_mae}\n",
    "    print(f\"\\n{model_name} - Average MAE: {mean_mae:.5f} (+/- {std_mae:.5f})\\n\")"
   ]
  },
  {
   "cell_type": "code",
   "execution_count": 6,
   "id": "9e54b384",
   "metadata": {},
   "outputs": [
    {
     "name": "stdout",
     "output_type": "stream",
     "text": [
      "4. Running Models\n",
      "Evaluating Ridge\n",
      "Fold 1 MAE: 35.86\n",
      "Fold 2 MAE: 32.662\n",
      "Fold 3 MAE: 32.669\n",
      "Fold 4 MAE: 35.291\n",
      "Fold 5 MAE: 36.343\n",
      "\n",
      "Ridge - Average MAE: 34.56499 (+/- 1.58619)\n",
      "\n",
      "Evaluating RandomForestRegressor\n",
      "Fold 1 MAE: 31.295\n",
      "Fold 2 MAE: 30.422\n",
      "Fold 3 MAE: 29.607\n",
      "Fold 4 MAE: 31.748\n",
      "Fold 5 MAE: 30.4\n",
      "\n",
      "RandomForest - Average MAE: 30.69453 (+/- 0.75008)\n",
      "\n",
      "Evaluating LightGBM\n",
      "[LightGBM] [Info] Auto-choosing col-wise multi-threading, the overhead of testing was 0.004319 seconds.\n",
      "You can set `force_col_wise=true` to remove the overhead.\n",
      "[LightGBM] [Info] Total Bins 18871\n",
      "[LightGBM] [Info] Number of data points in the train set: 2129, number of used features: 247\n",
      "[LightGBM] [Info] Start training from score 5.584540\n",
      "Fold 1 MAE: 28.995\n",
      "[LightGBM] [Info] Auto-choosing col-wise multi-threading, the overhead of testing was 0.003702 seconds.\n",
      "You can set `force_col_wise=true` to remove the overhead.\n",
      "[LightGBM] [Info] Total Bins 18886\n",
      "[LightGBM] [Info] Number of data points in the train set: 2129, number of used features: 252\n",
      "[LightGBM] [Info] Start training from score 5.588499\n",
      "Fold 2 MAE: 28.149\n",
      "[LightGBM] [Info] Auto-choosing col-wise multi-threading, the overhead of testing was 0.003523 seconds.\n",
      "You can set `force_col_wise=true` to remove the overhead.\n",
      "[LightGBM] [Info] Total Bins 18861\n",
      "[LightGBM] [Info] Number of data points in the train set: 2130, number of used features: 249\n",
      "[LightGBM] [Info] Start training from score 5.587080\n",
      "Fold 3 MAE: 28.445\n",
      "[LightGBM] [Info] Auto-choosing col-wise multi-threading, the overhead of testing was 0.005050 seconds.\n",
      "You can set `force_col_wise=true` to remove the overhead.\n",
      "[LightGBM] [Info] Total Bins 18861\n",
      "[LightGBM] [Info] Number of data points in the train set: 2130, number of used features: 244\n",
      "[LightGBM] [Info] Start training from score 5.588366\n",
      "Fold 4 MAE: 29.364\n",
      "[LightGBM] [Info] Auto-choosing col-wise multi-threading, the overhead of testing was 0.002710 seconds.\n",
      "You can set `force_col_wise=true` to remove the overhead.\n",
      "[LightGBM] [Info] Total Bins 18851\n",
      "[LightGBM] [Info] Number of data points in the train set: 2130, number of used features: 246\n",
      "[LightGBM] [Info] Start training from score 5.581143\n",
      "Fold 5 MAE: 28.147\n",
      "\n",
      "LightGBM - Average MAE: 28.62014 (+/- 0.48375)\n",
      "\n",
      "Evaluating XGBoost\n",
      "Fold 1 MAE: 29.99\n",
      "Fold 2 MAE: 28.799\n",
      "Fold 3 MAE: 29.214\n",
      "Fold 4 MAE: 30.007\n",
      "Fold 5 MAE: 29.131\n",
      "\n",
      "XGBoost - Average MAE: 29.42813 (+/- 0.48571)\n",
      "\n",
      "--- Final Results Summary ---\n",
      "               mean_mae   std_mae\n",
      "LightGBM      28.620137  0.483750\n",
      "XGBoost       29.428127  0.485705\n",
      "RandomForest  30.694527  0.750081\n",
      "Ridge         34.564986  1.586191\n"
     ]
    }
   ],
   "source": [
    "print(\"4. Running Models\")\n",
    "\n",
    "# Model 1: Ridge Regression\n",
    "print(\"Evaluating Ridge\")\n",
    "evaluate_model('Ridge', Ridge(alpha=1.0, random_state=42))\n",
    "\n",
    "# Model 2: Random Forest \n",
    "print(\"Evaluating RandomForestRegressor\")\n",
    "evaluate_model('RandomForest', RandomForestRegressor(n_estimators=100, random_state=42, n_jobs=-1))\n",
    "\n",
    "# Model 3: LightGBM\n",
    "print(\"Evaluating LightGBM\")\n",
    "evaluate_model('LightGBM', lgb.LGBMRegressor(random_state=42, n_jobs=-1))\n",
    "\n",
    "# Model 4: XGBoost \n",
    "print(\"Evaluating XGBoost\")\n",
    "evaluate_model('XGBoost', xgb.XGBRegressor(random_state=42, n_jobs=-1))\n",
    "\n",
    "print(\"--- Final Results Summary ---\")\n",
    "results_df = pd.DataFrame(results).T.sort_values(by='mean_mae')\n",
    "print(results_df)"
   ]
  }
 ],
 "metadata": {
  "kernelspec": {
   "display_name": ".venv",
   "language": "python",
   "name": "python3"
  },
  "language_info": {
   "codemirror_mode": {
    "name": "ipython",
    "version": 3
   },
   "file_extension": ".py",
   "mimetype": "text/x-python",
   "name": "python",
   "nbconvert_exporter": "python",
   "pygments_lexer": "ipython3",
   "version": "3.13.7"
  }
 },
 "nbformat": 4,
 "nbformat_minor": 5
}
