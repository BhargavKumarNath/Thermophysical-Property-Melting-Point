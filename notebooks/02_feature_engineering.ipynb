{
 "cells": [
  {
   "cell_type": "code",
   "execution_count": 1,
   "id": "cf115a9d",
   "metadata": {},
   "outputs": [],
   "source": [
    "import pandas as pd\n",
    "import numpy as np\n",
    "from sklearn.feature_selection import VarianceThreshold\n",
    "from rdkit import Chem\n",
    "from rdkit.Chem import Descriptors\n",
    "import warnings\n",
    "\n",
    "warnings.filterwarnings(\"ignore\", category=UserWarning)"
   ]
  },
  {
   "cell_type": "code",
   "execution_count": 2,
   "id": "58084767",
   "metadata": {},
   "outputs": [
    {
     "name": "stdout",
     "output_type": "stream",
     "text": [
      "Loading Raw Data...\n",
      "Initial train shape: (2662, 427)\n",
      "Initial test shape: (666, 426)\n"
     ]
    }
   ],
   "source": [
    "print(\"Loading Raw Data...\")\n",
    "train_df = pd.read_csv('../data/raw/train.csv')\n",
    "test_df = pd.read_csv('../data/raw/test.csv')\n",
    "\n",
    "# Store test IDs for submission file\n",
    "test_ids = test_df['id']\n",
    "\n",
    "print(f\"Initial train shape: {train_df.shape}\")\n",
    "print(f\"Initial test shape: {test_df.shape}\")"
   ]
  },
  {
   "cell_type": "code",
   "execution_count": 3,
   "id": "55659b3d",
   "metadata": {},
   "outputs": [
    {
     "name": "stdout",
     "output_type": "stream",
     "text": [
      "Applying Log Transform to target variable (Tm)\n",
      "Tm transformed to log scale\n"
     ]
    }
   ],
   "source": [
    "# 2. Log transform Target variable\n",
    "print(\"Applying Log Transform to target variable (Tm)\")\n",
    "train_df['Tm'] = np.log1p(train_df['Tm'])\n",
    "print(\"Tm transformed to log scale\")"
   ]
  },
  {
   "cell_type": "code",
   "execution_count": 4,
   "id": "ee36b932",
   "metadata": {},
   "outputs": [
    {
     "name": "stdout",
     "output_type": "stream",
     "text": [
      "\n",
      "Removing low and zero variance features\n",
      "Number of features removed: 319\n",
      "Number of features retained: 105\n",
      "Train shape after variance removal: (2662, 108)\n",
      "Test shape after variance removal: (666, 107)\n"
     ]
    }
   ],
   "source": [
    "# 3. Remove low variance Features\n",
    "print(\"\\nRemoving low and zero variance features\")\n",
    "group_features = [col for col in train_df.columns if col.startswith('Group')]\n",
    "\n",
    "selector = VarianceThreshold(threshold=0.01)\n",
    "selector.fit(train_df[group_features])\n",
    "\n",
    "# Get the features to keep\n",
    "retained_features = train_df[group_features].columns[selector.get_support()]\n",
    "removed_features = train_df[group_features].columns[~selector.get_support()]\n",
    "\n",
    "print(f\"Number of features removed: {len(removed_features)}\")\n",
    "print(f\"Number of features retained: {len(retained_features)}\")\n",
    "\n",
    "# Filter both train and test dataframes\n",
    "train_df = train_df[['id', 'SMILES', 'Tm'] + list(retained_features)]\n",
    "test_df = test_df[['id', 'SMILES'] + list(retained_features)]\n",
    "\n",
    "print(f\"Train shape after variance removal: {train_df.shape}\")\n",
    "print(f\"Test shape after variance removal: {test_df.shape}\")"
   ]
  },
  {
   "cell_type": "code",
   "execution_count": 5,
   "id": "41dd2783",
   "metadata": {},
   "outputs": [
    {
     "name": "stdout",
     "output_type": "stream",
     "text": [
      "Engineering Features from SMILES using RDKit\n",
      "Generated 217 RDKit Descriptors\n"
     ]
    }
   ],
   "source": [
    "print(f\"Engineering Features from SMILES using RDKit\")\n",
    "\n",
    "def generate_rdkit_description(smiles_string):\n",
    "    \"\"\"Generate a wide range of molecular description for a given SMILES string\"\"\"\n",
    "    mol = Chem.MolFromSmiles(smiles_string)\n",
    "    if mol is None:\n",
    "        return {desc_name: np.nan for desc_name, _ in Descriptors._descList}\n",
    "    # Cal. all available 2D descriptors\n",
    "    descriptors = {desc_name: func(mol) for desc_name, func in Descriptors._descList}\n",
    "\n",
    "    return descriptors\n",
    "\n",
    "train_descriptors = train_df['SMILES'].apply(generate_rdkit_description)\n",
    "test_descriptors = test_df['SMILES'].apply(generate_rdkit_description)\n",
    "\n",
    "# Convert list of dictionaries to a DataFrame\n",
    "train_descriptors_df = pd.DataFrame(train_descriptors.tolist())\n",
    "test_descriptors_df = pd.DataFrame(test_descriptors.tolist())\n",
    "\n",
    "print(f\"Generated {train_descriptors_df.shape[1]} RDKit Descriptors\")"
   ]
  },
  {
   "cell_type": "code",
   "execution_count": 6,
   "id": "e5cd4c9b",
   "metadata": {},
   "outputs": [
    {
     "name": "stdout",
     "output_type": "stream",
     "text": [
      "Final train shape: (2662, 324)\n",
      "Final test shape: (666, 323)\n"
     ]
    }
   ],
   "source": [
    "# Combine the new descriptors with the original dataframes\n",
    "train_processed = pd.concat([train_df.drop('SMILES', axis=1), train_descriptors_df], axis=1)\n",
    "test_processed = pd.concat([test_df.drop('SMILES', axis=1), test_descriptors_df], axis=1)\n",
    "\n",
    "nan_cols = test_processed.columns[test_processed.isna().all()].tolist()\n",
    "if nan_cols:\n",
    "    print(f\"Removing columns with all NaN values: {nan_cols}\")\n",
    "    train_processed = train_processed.drop(columns=nan_cols)\n",
    "    test_processed = test_processed.drop(columns=nan_cols)\n",
    "\n",
    "train_processed.fillna(train_processed.median(), inplace=True)\n",
    "test_processed.fillna(train_processed.median(), inplace=True)\n",
    "\n",
    "print(f\"Final train shape: {train_processed.shape}\")\n",
    "print(f\"Final test shape: {test_processed.shape}\")"
   ]
  },
  {
   "cell_type": "code",
   "execution_count": 7,
   "id": "77b206f3",
   "metadata": {},
   "outputs": [
    {
     "name": "stdout",
     "output_type": "stream",
     "text": [
      "Processed files saved to 'data/processed/' directory.\n"
     ]
    }
   ],
   "source": [
    "# Save it\n",
    "train_processed.to_csv('../data/processed/train_processed.csv', index=False)\n",
    "test_processed.to_csv('../data/processed/test_processed.csv', index=False)\n",
    "print(\"Processed files saved to 'data/processed/' directory.\")"
   ]
  },
  {
   "cell_type": "code",
   "execution_count": null,
   "id": "20cd1a8e",
   "metadata": {},
   "outputs": [],
   "source": []
  }
 ],
 "metadata": {
  "kernelspec": {
   "display_name": ".venv",
   "language": "python",
   "name": "python3"
  },
  "language_info": {
   "codemirror_mode": {
    "name": "ipython",
    "version": 3
   },
   "file_extension": ".py",
   "mimetype": "text/x-python",
   "name": "python",
   "nbconvert_exporter": "python",
   "pygments_lexer": "ipython3",
   "version": "3.13.7"
  }
 },
 "nbformat": 4,
 "nbformat_minor": 5
}
